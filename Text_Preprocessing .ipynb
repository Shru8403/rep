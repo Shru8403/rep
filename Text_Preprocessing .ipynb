{
 "cells": [
  {
   "cell_type": "code",
   "execution_count": 22,
   "id": "f8166a93",
   "metadata": {},
   "outputs": [],
   "source": [
    "import nltk\n",
    "from nltk.corpus import stopwords\n",
    "from nltk.stem import PorterStemmer\n",
    "from nltk.stem import WordNetLemmatizer\n",
    "import string"
   ]
  },
  {
   "cell_type": "code",
   "execution_count": 16,
   "id": "5b0dead3-09fb-4b74-93be-8f5a63c7cdf5",
   "metadata": {},
   "outputs": [
    {
     "name": "stderr",
     "output_type": "stream",
     "text": [
      "[nltk_data] Downloading package stopwords to C:\\Users\\Shruti\n",
      "[nltk_data]     Jadhav\\AppData\\Roaming\\nltk_data...\n",
      "[nltk_data]   Package stopwords is already up-to-date!\n"
     ]
    },
    {
     "data": {
      "text/plain": [
       "True"
      ]
     },
     "execution_count": 16,
     "metadata": {},
     "output_type": "execute_result"
    }
   ],
   "source": [
    "nltk.download('stopwords')"
   ]
  },
  {
   "cell_type": "code",
   "execution_count": 23,
   "id": "2e854ae1",
   "metadata": {},
   "outputs": [],
   "source": [
    "stop_words=set(stopwords.words(\"english\"))\n",
    "stemmer =PorterStemmer()"
   ]
  },
  {
   "cell_type": "code",
   "execution_count": 24,
   "id": "51cb32e1",
   "metadata": {},
   "outputs": [],
   "source": [
    "def preprocess_text(text):\n",
    "    text=text.lower()\n",
    "    \n",
    "    text=text.translate(str.maketrans(\"\",\"\",string.punctuation))\n",
    "    \n",
    "    tokens= text.split() \n",
    "    \n",
    "    processed_tokens= [stemmer.stem(word) for word in tokens if word not in stop_words]\n",
    "    \n",
    "    return \" \".join(processed_tokens)"
   ]
  },
  {
   "cell_type": "code",
   "execution_count": 25,
   "id": "058aeb7e",
   "metadata": {},
   "outputs": [],
   "source": [
    "document = \"The quick brown fox jumps over the lazy dog! This is a common sentence used to test fonts and typefaces. But, is it the best example for text processing? Let's find out!\""
   ]
  },
  {
   "cell_type": "code",
   "execution_count": 26,
   "id": "015f72b7",
   "metadata": {},
   "outputs": [],
   "source": [
    "processed_document = preprocess_text(document)"
   ]
  },
  {
   "cell_type": "code",
   "execution_count": 27,
   "id": "9b84fe59",
   "metadata": {},
   "outputs": [
    {
     "name": "stdout",
     "output_type": "stream",
     "text": [
      "Original Document:\n",
      " The quick brown fox jumps over the lazy dog! This is a common sentence used to test fonts and typefaces. But, is it the best example for text processing? Let's find out!\n",
      "\n",
      "Processed Document:\n",
      " quick brown fox jump lazi dog common sentenc use test font typefac best exampl text process let find\n"
     ]
    }
   ],
   "source": [
    "print(\"Original Document:\\n\", document)\n",
    "print(\"\\nProcessed Document:\\n\", processed_document)"
   ]
  },
  {
   "cell_type": "code",
   "execution_count": null,
   "id": "20136fec-a8fb-4744-8db9-f3f9aebe4728",
   "metadata": {},
   "outputs": [],
   "source": []
  }
 ],
 "metadata": {
  "kernelspec": {
   "display_name": "Python 3 (ipykernel)",
   "language": "python",
   "name": "python3"
  },
  "language_info": {
   "codemirror_mode": {
    "name": "ipython",
    "version": 3
   },
   "file_extension": ".py",
   "mimetype": "text/x-python",
   "name": "python",
   "nbconvert_exporter": "python",
   "pygments_lexer": "ipython3",
   "version": "3.10.5"
  }
 },
 "nbformat": 4,
 "nbformat_minor": 5
}
