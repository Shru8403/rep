{
 "cells": [
  {
   "cell_type": "code",
   "execution_count": 13,
   "id": "03b3c743",
   "metadata": {},
   "outputs": [],
   "source": [
    "document1 = \"The quick brown fox jumped over the lazy dog .\"\n",
    "document2 = \"The lazy dog slept in the sun .\""
   ]
  },
  {
   "cell_type": "code",
   "execution_count": 14,
   "id": "277d8636-7dce-4753-b64a-44514e8cd4d0",
   "metadata": {},
   "outputs": [],
   "source": [
    "tokens1 = document1.lower().split()\n",
    "tokens2 = document2.lower().split()"
   ]
  },
  {
   "cell_type": "code",
   "execution_count": 15,
   "id": "ea71bf82-0b82-4201-b20e-cccfc1185f01",
   "metadata": {},
   "outputs": [],
   "source": [
    "terms = list(set(tokens1 + tokens2))"
   ]
  },
  {
   "cell_type": "code",
   "execution_count": 16,
   "id": "467d2343-552a-4d7d-be30-73096c176cee",
   "metadata": {},
   "outputs": [],
   "source": [
    "inverted_index = {}"
   ]
  },
  {
   "cell_type": "code",
   "execution_count": 17,
   "id": "d4e258c8-9ca6-4bc9-bd2a-ca365b8483e7",
   "metadata": {},
   "outputs": [],
   "source": [
    "for term in terms:\n",
    "    documents = []\n",
    "    if term in tokens1:\n",
    "        documents.append(\"Document 1\")\n",
    "    if term in tokens2:\n",
    "        documents.append(\"Document 2\")\n",
    "    inverted_index[term] = documents"
   ]
  },
  {
   "cell_type": "code",
   "execution_count": 18,
   "id": "ae9bc0bf",
   "metadata": {},
   "outputs": [
    {
     "name": "stdout",
     "output_type": "stream",
     "text": [
      "Inverted Index:\n",
      "fox -> Document 1\n",
      "brown -> Document 1\n",
      "dog -> Document 1, Document 2\n",
      "slept -> Document 2\n",
      "jumped -> Document 1\n",
      ". -> Document 1, Document 2\n",
      "quick -> Document 1\n",
      "in -> Document 2\n",
      "lazy -> Document 1, Document 2\n",
      "over -> Document 1\n",
      "the -> Document 1, Document 2\n",
      "sun -> Document 2\n"
     ]
    }
   ],
   "source": [
    "print(\"Inverted Index:\")\n",
    "for term, documents in inverted_index.items():\n",
    "    print(term, \"->\", \", \".join(documents))"
   ]
  },
  {
   "cell_type": "code",
   "execution_count": 19,
   "id": "f587b47a-1104-494d-80b6-6c8f0342c64c",
   "metadata": {},
   "outputs": [
    {
     "name": "stdin",
     "output_type": "stream",
     "text": [
      "\n",
      "Enter your search query:  quick\n"
     ]
    },
    {
     "name": "stdout",
     "output_type": "stream",
     "text": [
      "\n",
      "Documents matching the query:\n",
      "Document 1\n"
     ]
    }
   ],
   "source": [
    "query = input(\"\\nEnter your search query: \").lower() \n",
    "query_terms = query.split()\n",
    "\n",
    "result_docs = set()\n",
    "\n",
    "for term in query_terms:\n",
    "    if term in inverted_index:\n",
    "        result_docs.update(inverted_index[term])\n",
    "\n",
    "if result_docs:\n",
    "    print(\"\\nDocuments matching the query:\")\n",
    "    for doc in result_docs:\n",
    "        print(doc)\n",
    "else:\n",
    "    print(\"\\nNo documents found for the query.\")\n"
   ]
  },
  {
   "cell_type": "code",
   "execution_count": null,
   "id": "f9cb2acb-c269-408c-9b71-4e600f61d544",
   "metadata": {},
   "outputs": [],
   "source": []
  }
 ],
 "metadata": {
  "kernelspec": {
   "display_name": "Python 3 (ipykernel)",
   "language": "python",
   "name": "python3"
  },
  "language_info": {
   "codemirror_mode": {
    "name": "ipython",
    "version": 3
   },
   "file_extension": ".py",
   "mimetype": "text/x-python",
   "name": "python",
   "nbconvert_exporter": "python",
   "pygments_lexer": "ipython3",
   "version": "3.10.5"
  }
 },
 "nbformat": 4,
 "nbformat_minor": 5
}
