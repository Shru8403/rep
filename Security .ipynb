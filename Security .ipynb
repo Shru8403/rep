{
 "cells": [
  {
   "cell_type": "code",
   "execution_count": 27,
   "id": "efd7308c-da8c-46cc-9ce3-f5737f846934",
   "metadata": {},
   "outputs": [],
   "source": [
    "import hashlib \n",
    "from cryptography.fernet import Fernet\n",
    "import random"
   ]
  },
  {
   "cell_type": "code",
   "execution_count": 28,
   "id": "ff98f21d-0012-40b6-93ac-933cb73c1e1e",
   "metadata": {},
   "outputs": [],
   "source": [
    "key = Fernet.generate_key()\n",
    "cipher = Fernet(key)"
   ]
  },
  {
   "cell_type": "code",
   "execution_count": 29,
   "id": "b8a7a328-e0d8-475f-bab2-b7e99ab40db8",
   "metadata": {},
   "outputs": [],
   "source": [
    "def get_sensor_data():\n",
    "    return random.uniform(50, 100)  \n",
    "\n",
    "def encrypt_data(data, cipher):\n",
    "    return cipher.encrypt(data.encode())\n",
    "\n",
    "def decrypt_data(encrypted_data, cipher):\n",
    "    return cipher.decrypt(encrypted_data).decode()\n",
    "\n",
    "def verify_data_integrity(data):\n",
    "    return hashlib.sha256(data.encode()).hexdigest()"
   ]
  },
  {
   "cell_type": "code",
   "execution_count": 30,
   "id": "ed4b9665-7bdc-4dc0-a964-8dc43ec67350",
   "metadata": {},
   "outputs": [
    {
     "name": "stdout",
     "output_type": "stream",
     "text": [
      "Original Data: Temperature: 79.41°C\n",
      "Encrypted Data: b'gAAAAABnKznOGtTCMxvaFoBE9xL1_c9RVJu5DBQatlIPAZujM0i40eoqCJfw_EZo4nDhe3A-m6jGt67FLERmiLu2PI4nww2RZ_TXv6sEem2IAbsVMSOt_LI='\n",
      "Decrypted Data: Temperature: 79.41°C\n"
     ]
    }
   ],
   "source": [
    "sensor_data = f\"Temperature: {get_sensor_data():.2f}°C\"\n",
    "print(\"Original Data:\", sensor_data)\n",
    "\n",
    "encrypted_data = encrypt_data(sensor_data, cipher)\n",
    "print(\"Encrypted Data:\", encrypted_data)\n",
    "\n",
    "decrypted_data = decrypt_data(encrypted_data, cipher)\n",
    "print(\"Decrypted Data:\", decrypted_data)"
   ]
  },
  {
   "cell_type": "code",
   "execution_count": 31,
   "id": "4e88433a-8e3d-480d-bf0c-7ab3da9552d1",
   "metadata": {},
   "outputs": [
    {
     "name": "stdout",
     "output_type": "stream",
     "text": [
      "Data Integrity Verified: Hashes match.\n"
     ]
    }
   ],
   "source": [
    "original_hash = verify_data_integrity(sensor_data)\n",
    "decrypted_hash = verify_data_integrity(decrypted_data)\n",
    "if original_hash == decrypted_hash:\n",
    "    print(\"Data Integrity Verified: Hashes match.\")\n",
    "else:\n",
    "    print(\"Data Integrity Issue: Hashes do not match.\")"
   ]
  },
  {
   "cell_type": "code",
   "execution_count": null,
   "id": "575a469a-668a-4aab-a6e5-c79dcde534cc",
   "metadata": {},
   "outputs": [],
   "source": []
  }
 ],
 "metadata": {
  "kernelspec": {
   "display_name": "Python 3 (ipykernel)",
   "language": "python",
   "name": "python3"
  },
  "language_info": {
   "codemirror_mode": {
    "name": "ipython",
    "version": 3
   },
   "file_extension": ".py",
   "mimetype": "text/x-python",
   "name": "python",
   "nbconvert_exporter": "python",
   "pygments_lexer": "ipython3",
   "version": "3.10.5"
  }
 },
 "nbformat": 4,
 "nbformat_minor": 5
}
