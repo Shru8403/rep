{
 "cells": [
  {
   "cell_type": "code",
   "execution_count": null,
   "id": "ff178e6c-92e7-4715-b54b-84a6d595fdfe",
   "metadata": {},
   "outputs": [],
   "source": [
    "import http.client , urllib.request,urllib.parse\n",
    "key = 'SER2VA96JFVQQLR0'\n",
    "\n",
    "t=int(22)\n",
    "\n",
    "while True:\n",
    "    t=t+1\n",
    "    print (\"temperature\",t)\n",
    "    params=urllib.parse.urlencode({'field1':t,'key':key})\n",
    "    headers={\"Content-type\":\"application/x-www-form-urlencoded\",\"Accept\":\"text/plain\"}\n",
    "    con=http.client.HTTPConnection(\"api.thingspeak.com\")\n",
    "    con.request(\"POST\",\"/update\",params,headers)\n",
    "    response=con.getresponse()\n",
    "    print (response.status,response.reason)\n",
    "    data=response.read()\n",
    "    con.close()"
   ]
  },
  {
   "cell_type": "code",
   "execution_count": null,
   "id": "ac4a6f5c-5c55-4dc3-b94e-86fb0f3e2c2c",
   "metadata": {},
   "outputs": [],
   "source": []
  }
 ],
 "metadata": {
  "kernelspec": {
   "display_name": "Python 3 (ipykernel)",
   "language": "python",
   "name": "python3"
  },
  "language_info": {
   "codemirror_mode": {
    "name": "ipython",
    "version": 3
   },
   "file_extension": ".py",
   "mimetype": "text/x-python",
   "name": "python",
   "nbconvert_exporter": "python",
   "pygments_lexer": "ipython3",
   "version": "3.10.5"
  }
 },
 "nbformat": 4,
 "nbformat_minor": 5
}
